{
 "cells": [
  {
   "cell_type": "code",
   "execution_count": 11,
   "id": "5232a242",
   "metadata": {},
   "outputs": [],
   "source": [
    "import numpy as np\n",
    "import cv2\n",
    "from matplotlib import pyplot as plt"
   ]
  },
  {
   "cell_type": "code",
   "execution_count": 12,
   "id": "9e6d15f0",
   "metadata": {},
   "outputs": [],
   "source": [
    "cap = cv2.VideoCapture('hh5.mp4')\n",
    "cv2.namedWindow(\"frame\", cv2.WINDOW_NORMAL)\n",
    "cv2.resizeWindow(\"frame\", 900, 800)"
   ]
  },
  {
   "cell_type": "code",
   "execution_count": 13,
   "id": "e47083d3",
   "metadata": {},
   "outputs": [],
   "source": [
    "MIN_MATCH_COUNT = 10\n",
    "# Initiate SIFT detector\n",
    "sift = cv2.SIFT_create()\n",
    "# find the keypoints and descriptors with SIFT\n",
    "img1 = cv2.imread('hh5.jpg',0) # queryImage\n",
    "kp1, des1 = sift.detectAndCompute(img1,None)"
   ]
  },
  {
   "cell_type": "code",
   "execution_count": 14,
   "id": "6a3163cd",
   "metadata": {},
   "outputs": [],
   "source": [
    "FLANN_INDEX_KDTREE = 0\n",
    "index_params = dict(algorithm = FLANN_INDEX_KDTREE, trees = 5)\n",
    "search_params = dict(checks = 50)\n",
    "flann = cv2.FlannBasedMatcher(index_params, search_params)"
   ]
  },
  {
   "cell_type": "code",
   "execution_count": 15,
   "id": "6fe1f9aa",
   "metadata": {},
   "outputs": [],
   "source": [
    "while(cap.isOpened):\n",
    "    ret, frame = cap.read()\n",
    "    if ret == True:\n",
    "        img2 = cv2.cvtColor(frame, cv2.COLOR_BGR2GRAY)\n",
    "        kp2, des2 = sift.detectAndCompute(img2, None)\n",
    "        matches = flann.knnMatch(des1,des2,k=2)\n",
    "        good = []\n",
    "        for m,n in matches:\n",
    "            if m.distance < 0.5*n.distance:\n",
    "                good.append(m)\n",
    "               \n",
    "        if len(good)>MIN_MATCH_COUNT:\n",
    "            src_pts = np.float32([ kp1[m.queryIdx].pt for m in good ]).reshape(-1,1,2)\n",
    "            dst_pts = np.float32([ kp2[m.trainIdx].pt for m in good ]).reshape(-1,1,2)\n",
    "            M, mask = cv2.findHomography(src_pts, dst_pts, cv2.RANSAC, 5.0)\n",
    "            matchesMask = mask.ravel().tolist()\n",
    "            h,w = img1.shape\n",
    "            pts = np.float32([ [0,0],[0,h-1],[w-1,h-1],[w-1,0] ]).reshape(-1,1,2)\n",
    "            dst = cv2.perspectiveTransform(pts,M)\n",
    "            img2 = cv2.polylines(img2,[np.int32(dst)],True,255,3, cv2.LINE_AA)\n",
    "        else:\n",
    "            print(\"Not enough matches are found - %d/%d\" % (len(good),MIN_MATCH_COUNT))\n",
    "            matchesMask = None    \n",
    "           \n",
    "        draw_params = dict(matchColor = (0,255,0), singlePointColor = None, matchesMask = matchesMask, flags = 2)\n",
    "        img3 = cv2.drawMatches(img1,kp1,img2,kp2,good,None,**draw_params)\n",
    "        cv2.imshow('frame', img3)\n",
    "    else:\n",
    "        break\n",
    "    if cv2.waitKey(1) & 0xFF == ord('q'):\n",
    "        break\n",
    "cap.release()\n",
    "cv2.destroyAllWindows()\n",
    "#창을 닫고 싶으면 Q"
   ]
  }
 ],
 "metadata": {
  "kernelspec": {
   "display_name": "IP2025",
   "language": "python",
   "name": "python3"
  },
  "language_info": {
   "codemirror_mode": {
    "name": "ipython",
    "version": 3
   },
   "file_extension": ".py",
   "mimetype": "text/x-python",
   "name": "python",
   "nbconvert_exporter": "python",
   "pygments_lexer": "ipython3",
   "version": "3.8.20"
  }
 },
 "nbformat": 4,
 "nbformat_minor": 5
}
